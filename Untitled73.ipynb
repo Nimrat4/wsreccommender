{
  "nbformat": 4,
  "nbformat_minor": 0,
  "metadata": {
    "colab": {
      "provenance": [],
      "authorship_tag": "ABX9TyOFG45w+FXf3mJDwBIJ5b8p",
      "include_colab_link": true
    },
    "kernelspec": {
      "name": "python3",
      "display_name": "Python 3"
    },
    "language_info": {
      "name": "python"
    }
  },
  "cells": [
    {
      "cell_type": "markdown",
      "metadata": {
        "id": "view-in-github",
        "colab_type": "text"
      },
      "source": [
        "<a href=\"https://colab.research.google.com/github/Nimrat4/wsreccommender/blob/main/Untitled73.ipynb\" target=\"_parent\"><img src=\"https://colab.research.google.com/assets/colab-badge.svg\" alt=\"Open In Colab\"/></a>"
      ]
    },
    {
      "cell_type": "code",
      "execution_count": 3,
      "metadata": {
        "colab": {
          "base_uri": "https://localhost:8080/"
        },
        "id": "4losXEsziLrM",
        "outputId": "2a711dea-1eff-4c7d-89cc-30fac4e1e15b"
      },
      "outputs": [
        {
          "output_type": "stream",
          "name": "stdout",
          "text": [
            "Enter your age: 35\n",
            "Enter your gender (Male/Female/Other): Female\n",
            "Enter your country: Australia\n",
            "Enter the title of a web series you like (leave blank if no preference): \n",
            "Recommendations based on your input:\n",
            "          Series Title  IMDB Rating\n",
            "                   Mom          7.2\n",
            "                Beyond          7.0\n",
            "A Discovery of Witches          8.1\n",
            "  The Ultimate Fighter          7.8\n",
            "The Suite Life on Deck          6.3\n",
            "              Baseball          9.2\n",
            "       BoJack Horseman          8.7\n",
            "        Cells at Work!          7.6\n",
            "             The Flash          7.2\n",
            "  Friends from College          6.8\n"
          ]
        }
      ],
      "source": [
        "import pandas as pd\n",
        "from sklearn.feature_extraction.text import TfidfVectorizer\n",
        "from sklearn.metrics.pairwise import cosine_similarity\n",
        "import numpy as np\n",
        "\n",
        "\n",
        "data = pd.read_csv('wsmetadata.csv', encoding='ISO-8859-1')\n",
        "\n",
        "data['combined_features'] = data[['Series Title', 'Genre', 'Description']].fillna('').astype(str).agg(' '.join, axis=1)\n",
        "\n",
        "tfidf_vectorizer = TfidfVectorizer(stop_words='english')\n",
        "tfidf_matrix = tfidf_vectorizer.fit_transform(data['combined_features'])\n",
        "cosine_sim = cosine_similarity(tfidf_matrix, tfidf_matrix)\n",
        "\n",
        "def recommend_content_based(series_title):\n",
        "    try:\n",
        "        idx = data.index[data['Series Title'].str.lower() == series_title.lower()].tolist()[0]\n",
        "    except IndexError:\n",
        "        print(\"Series title not found in the dataset.\")\n",
        "        return pd.DataFrame(columns=['Series Title', 'IMDB Rating'])\n",
        "\n",
        "\n",
        "    sim_scores = list(enumerate(cosine_sim[idx]))\n",
        "    sim_scores = sorted(sim_scores, key=lambda x: x[1], reverse=True)\n",
        "    sim_scores = sim_scores[1:11]\n",
        "    series_indices = [i[0] for i in sim_scores]\n",
        "    return data.iloc[series_indices][['Series Title', 'IMDB Rating']].sort_values(by='IMDB Rating', ascending=False)\n",
        "\n",
        "def recommend_based_on_demographics(age, gender, country):\n",
        "    weights = {'age': 0.5, 'gender': 0.3, 'country': 0.2}\n",
        "\n",
        "    data['demo_score'] = np.random.rand(len(data))\n",
        "\n",
        "\n",
        "    return data.sort_values(by=['demo_score', 'IMDB Rating'], ascending=[False, False]).head(10)[['Series Title', 'IMDB Rating']]\n",
        "\n",
        "age = int(input(\"Enter your age: \"))\n",
        "gender = input(\"Enter your gender (Male/Female/Other): \")\n",
        "country = input(\"Enter your country: \")\n",
        "series_title = input(\"Enter the title of a web series you like (leave blank if no preference): \")\n",
        "\n",
        "if series_title.strip():\n",
        "    recommendations = recommend_content_based(series_title)\n",
        "else:\n",
        "    recommendations = recommend_based_on_demographics(age, gender, country)\n",
        "\n",
        "if not recommendations.empty:\n",
        "    print(\"Recommendations based on your input:\")\n",
        "    print(recommendations.to_string(index=False))\n",
        "else:\n",
        "    print(\"No recommendations found.\")"
      ]
    }
  ]
}